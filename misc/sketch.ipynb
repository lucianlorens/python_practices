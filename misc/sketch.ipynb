{
 "cells": [
  {
   "cell_type": "code",
   "execution_count": 3,
   "id": "6abe54fe",
   "metadata": {},
   "outputs": [
    {
     "name": "stdout",
     "output_type": "stream",
     "text": [
      "ayn\n"
     ]
    }
   ],
   "source": [
    "print('ayn')"
   ]
  },
  {
   "cell_type": "code",
   "execution_count": 4,
   "id": "8802b2e1",
   "metadata": {},
   "outputs": [],
   "source": [
    "stringzin = 'abdcefgh'"
   ]
  },
  {
   "cell_type": "code",
   "execution_count": 14,
   "id": "babac7b2",
   "metadata": {},
   "outputs": [
    {
     "data": {
      "text/plain": [
       "'dcefg'"
      ]
     },
     "execution_count": 14,
     "metadata": {},
     "output_type": "execute_result"
    }
   ],
   "source": [
    "stringzin[2:-1]"
   ]
  },
  {
   "cell_type": "code",
   "execution_count": 17,
   "id": "5c645295",
   "metadata": {},
   "outputs": [
    {
     "data": {
      "text/plain": [
       "'fgh'"
      ]
     },
     "execution_count": 17,
     "metadata": {},
     "output_type": "execute_result"
    }
   ],
   "source": [
    "stringzin[5:]"
   ]
  },
  {
   "cell_type": "code",
   "execution_count": 18,
   "id": "aac71f4e",
   "metadata": {},
   "outputs": [
    {
     "data": {
      "text/plain": [
       "'abdcef'"
      ]
     },
     "execution_count": 18,
     "metadata": {},
     "output_type": "execute_result"
    }
   ],
   "source": [
    "stringzin[:-2]"
   ]
  },
  {
   "cell_type": "code",
   "execution_count": 26,
   "id": "0ebd9e5d",
   "metadata": {},
   "outputs": [],
   "source": [
    "listinha = [\"1\",\"2\",\"3\",\"4\",\"5\"]"
   ]
  },
  {
   "cell_type": "code",
   "execution_count": 27,
   "id": "207422ee",
   "metadata": {},
   "outputs": [
    {
     "data": {
      "text/plain": [
       "'5'"
      ]
     },
     "execution_count": 27,
     "metadata": {},
     "output_type": "execute_result"
    }
   ],
   "source": [
    "listinha.pop()"
   ]
  },
  {
   "cell_type": "code",
   "execution_count": 28,
   "id": "007a7963",
   "metadata": {},
   "outputs": [
    {
     "data": {
      "text/plain": [
       "'3'"
      ]
     },
     "execution_count": 28,
     "metadata": {},
     "output_type": "execute_result"
    }
   ],
   "source": [
    "listinha[-2]"
   ]
  },
  {
   "cell_type": "code",
   "execution_count": 29,
   "id": "a4d9fe1d",
   "metadata": {},
   "outputs": [
    {
     "name": "stdout",
     "output_type": "stream",
     "text": [
      "fibo seq:\n",
      "0\n",
      "1\n",
      "1\n",
      "2\n",
      "3\n",
      "5\n",
      "8\n",
      "13\n",
      "21\n",
      "34\n"
     ]
    }
   ],
   "source": [
    "# Fibozinho\n",
    "def recur_fibo(n):\n",
    "    if n <= 1:\n",
    "        return n\n",
    "    else: return(recur_fibo(n-1) + recur_fibo(n-2))\n",
    "\n",
    "nterms = 10\n",
    "\n",
    "if nterms <= 0:\n",
    "    print(\"enter positive integer value\")\n",
    "else:\n",
    "    print(\"fibo seq:\")\n",
    "    for number in range(nterms):\n",
    "        print(recur_fibo(number))\n",
    "\n"
   ]
  },
  {
   "cell_type": "code",
   "execution_count": 30,
   "id": "1f6b00dc",
   "metadata": {},
   "outputs": [
    {
     "data": {
      "text/plain": [
       "[0, 1, 1, 2, 3, 5, 8, 13, 21, 34]"
      ]
     },
     "execution_count": 30,
     "metadata": {},
     "output_type": "execute_result"
    }
   ],
   "source": [
    "[recur_fibo(i) for i in range(nterms)]"
   ]
  },
  {
   "cell_type": "code",
   "execution_count": 1,
   "id": "92a583b6",
   "metadata": {},
   "outputs": [
    {
     "data": {
      "text/plain": [
       "2"
      ]
     },
     "execution_count": 1,
     "metadata": {},
     "output_type": "execute_result"
    }
   ],
   "source": [
    "1+1\n"
   ]
  },
  {
   "cell_type": "code",
   "execution_count": 2,
   "id": "c10a9306",
   "metadata": {},
   "outputs": [
    {
     "name": "stdout",
     "output_type": "stream",
     "text": [
      "ayn\n",
      "ayn\n",
      "ayn\n",
      "ayn\n",
      "ayn\n",
      "ayn\n",
      "ayn\n",
      "ayn\n",
      "ayn\n"
     ]
    }
   ],
   "source": [
    "for i in range(1,10):\n",
    "    print(\"ayn\")"
   ]
  },
  {
   "cell_type": "code",
   "execution_count": null,
   "id": "300dd728",
   "metadata": {},
   "outputs": [],
   "source": []
  }
 ],
 "metadata": {
  "kernelspec": {
   "display_name": "Python 3",
   "language": "python",
   "name": "python3"
  },
  "language_info": {
   "codemirror_mode": {
    "name": "ipython",
    "version": 3
   },
   "file_extension": ".py",
   "mimetype": "text/x-python",
   "name": "python",
   "nbconvert_exporter": "python",
   "pygments_lexer": "ipython3",
   "version": "3.8.10"
  }
 },
 "nbformat": 4,
 "nbformat_minor": 5
}
