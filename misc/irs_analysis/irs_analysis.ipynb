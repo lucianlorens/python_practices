{
 "cells": [
  {
   "cell_type": "markdown",
   "id": "f9a04a22",
   "metadata": {},
   "source": [
    "###### Download das Tabelas de IRS de Portugal \n",
    "#### Fonte: https://info.portaldasfinancas.gov.pt/pt/apoio_contribuinte/tabela_ret_doclib/Pages/default.aspx"
   ]
  },
  {
   "cell_type": "code",
   "execution_count": 1,
   "id": "e472e9c6",
   "metadata": {},
   "outputs": [],
   "source": [
    "import pandas as pd\n",
    "import matplotlib.pyplot as plt"
   ]
  },
  {
   "cell_type": "code",
   "execution_count": 2,
   "id": "a4ddfe99",
   "metadata": {
    "scrolled": true
   },
   "outputs": [
    {
     "data": {
      "text/html": [
       "<div>\n",
       "<style scoped>\n",
       "    .dataframe tbody tr th:only-of-type {\n",
       "        vertical-align: middle;\n",
       "    }\n",
       "\n",
       "    .dataframe tbody tr th {\n",
       "        vertical-align: top;\n",
       "    }\n",
       "\n",
       "    .dataframe thead th {\n",
       "        text-align: right;\n",
       "    }\n",
       "</style>\n",
       "<table border=\"1\" class=\"dataframe\">\n",
       "  <thead>\n",
       "    <tr style=\"text-align: right;\">\n",
       "      <th></th>\n",
       "      <th>Unnamed: 1</th>\n",
       "      <th>0</th>\n",
       "    </tr>\n",
       "  </thead>\n",
       "  <tbody>\n",
       "    <tr>\n",
       "      <th>0</th>\n",
       "      <td>710</td>\n",
       "      <td>0.000</td>\n",
       "    </tr>\n",
       "    <tr>\n",
       "      <th>1</th>\n",
       "      <td>720</td>\n",
       "      <td>0.018</td>\n",
       "    </tr>\n",
       "    <tr>\n",
       "      <th>2</th>\n",
       "      <td>740</td>\n",
       "      <td>0.045</td>\n",
       "    </tr>\n",
       "    <tr>\n",
       "      <th>3</th>\n",
       "      <td>754</td>\n",
       "      <td>0.063</td>\n",
       "    </tr>\n",
       "    <tr>\n",
       "      <th>4</th>\n",
       "      <td>814</td>\n",
       "      <td>0.079</td>\n",
       "    </tr>\n",
       "  </tbody>\n",
       "</table>\n",
       "</div>"
      ],
      "text/plain": [
       "   Unnamed: 1      0\n",
       "0         710  0.000\n",
       "1         720  0.018\n",
       "2         740  0.045\n",
       "3         754  0.063\n",
       "4         814  0.079"
      ]
     },
     "execution_count": 2,
     "metadata": {},
     "output_type": "execute_result"
    }
   ],
   "source": [
    "excel_file = 'Tabelas_RF_Continente_2022.xlsx'\n",
    "quantity_rows = 18 # max 35\n",
    "raw_tax_sheet = pd.read_excel(\n",
    "    excel_file,\n",
    "    #sheetname=\"Trabalho_Dependente\",\n",
    "    #index_col=0,\n",
    "    skiprows = 9,\n",
    "    usecols = 'B:C',\n",
    "    nrows = quantity_rows\n",
    ")\n",
    "\n",
    "raw_tax_sheet.head()"
   ]
  },
  {
   "cell_type": "code",
   "execution_count": 3,
   "id": "882f178b",
   "metadata": {},
   "outputs": [
    {
     "name": "stdout",
     "output_type": "stream",
     "text": [
      "   gross_income  tax_percentage\n",
      "0           710           0.000\n",
      "1           720           0.018\n",
      "2           740           0.045\n",
      "3           754           0.063\n",
      "4           814           0.079\n",
      "gross_income        int64\n",
      "tax_percentage    float64\n",
      "net_income        float64\n",
      "dtype: object\n"
     ]
    },
    {
     "data": {
      "text/html": [
       "<div>\n",
       "<style scoped>\n",
       "    .dataframe tbody tr th:only-of-type {\n",
       "        vertical-align: middle;\n",
       "    }\n",
       "\n",
       "    .dataframe tbody tr th {\n",
       "        vertical-align: top;\n",
       "    }\n",
       "\n",
       "    .dataframe thead th {\n",
       "        text-align: right;\n",
       "    }\n",
       "</style>\n",
       "<table border=\"1\" class=\"dataframe\">\n",
       "  <thead>\n",
       "    <tr style=\"text-align: right;\">\n",
       "      <th></th>\n",
       "      <th>gross_income</th>\n",
       "      <th>tax_percentage</th>\n",
       "      <th>net_income</th>\n",
       "    </tr>\n",
       "  </thead>\n",
       "  <tbody>\n",
       "    <tr>\n",
       "      <th>0</th>\n",
       "      <td>710</td>\n",
       "      <td>0.000</td>\n",
       "      <td>631.900</td>\n",
       "    </tr>\n",
       "    <tr>\n",
       "      <th>1</th>\n",
       "      <td>720</td>\n",
       "      <td>0.018</td>\n",
       "      <td>627.840</td>\n",
       "    </tr>\n",
       "    <tr>\n",
       "      <th>2</th>\n",
       "      <td>740</td>\n",
       "      <td>0.045</td>\n",
       "      <td>625.300</td>\n",
       "    </tr>\n",
       "    <tr>\n",
       "      <th>3</th>\n",
       "      <td>754</td>\n",
       "      <td>0.063</td>\n",
       "      <td>623.558</td>\n",
       "    </tr>\n",
       "    <tr>\n",
       "      <th>4</th>\n",
       "      <td>814</td>\n",
       "      <td>0.079</td>\n",
       "      <td>660.154</td>\n",
       "    </tr>\n",
       "    <tr>\n",
       "      <th>5</th>\n",
       "      <td>922</td>\n",
       "      <td>0.101</td>\n",
       "      <td>727.458</td>\n",
       "    </tr>\n",
       "    <tr>\n",
       "      <th>6</th>\n",
       "      <td>1005</td>\n",
       "      <td>0.113</td>\n",
       "      <td>780.885</td>\n",
       "    </tr>\n",
       "    <tr>\n",
       "      <th>7</th>\n",
       "      <td>1065</td>\n",
       "      <td>0.121</td>\n",
       "      <td>818.985</td>\n",
       "    </tr>\n",
       "    <tr>\n",
       "      <th>8</th>\n",
       "      <td>1143</td>\n",
       "      <td>0.131</td>\n",
       "      <td>867.537</td>\n",
       "    </tr>\n",
       "    <tr>\n",
       "      <th>9</th>\n",
       "      <td>1225</td>\n",
       "      <td>0.141</td>\n",
       "      <td>917.525</td>\n",
       "    </tr>\n",
       "    <tr>\n",
       "      <th>10</th>\n",
       "      <td>1321</td>\n",
       "      <td>0.152</td>\n",
       "      <td>974.898</td>\n",
       "    </tr>\n",
       "    <tr>\n",
       "      <th>11</th>\n",
       "      <td>1424</td>\n",
       "      <td>0.162</td>\n",
       "      <td>1036.672</td>\n",
       "    </tr>\n",
       "    <tr>\n",
       "      <th>12</th>\n",
       "      <td>1562</td>\n",
       "      <td>0.172</td>\n",
       "      <td>1121.516</td>\n",
       "    </tr>\n",
       "    <tr>\n",
       "      <th>13</th>\n",
       "      <td>1711</td>\n",
       "      <td>0.186</td>\n",
       "      <td>1204.544</td>\n",
       "    </tr>\n",
       "    <tr>\n",
       "      <th>14</th>\n",
       "      <td>1870</td>\n",
       "      <td>0.199</td>\n",
       "      <td>1292.170</td>\n",
       "    </tr>\n",
       "    <tr>\n",
       "      <th>15</th>\n",
       "      <td>1977</td>\n",
       "      <td>0.209</td>\n",
       "      <td>1346.337</td>\n",
       "    </tr>\n",
       "    <tr>\n",
       "      <th>16</th>\n",
       "      <td>2090</td>\n",
       "      <td>0.219</td>\n",
       "      <td>1402.390</td>\n",
       "    </tr>\n",
       "    <tr>\n",
       "      <th>17</th>\n",
       "      <td>2218</td>\n",
       "      <td>0.228</td>\n",
       "      <td>1468.316</td>\n",
       "    </tr>\n",
       "  </tbody>\n",
       "</table>\n",
       "</div>"
      ],
      "text/plain": [
       "    gross_income  tax_percentage  net_income\n",
       "0            710           0.000     631.900\n",
       "1            720           0.018     627.840\n",
       "2            740           0.045     625.300\n",
       "3            754           0.063     623.558\n",
       "4            814           0.079     660.154\n",
       "5            922           0.101     727.458\n",
       "6           1005           0.113     780.885\n",
       "7           1065           0.121     818.985\n",
       "8           1143           0.131     867.537\n",
       "9           1225           0.141     917.525\n",
       "10          1321           0.152     974.898\n",
       "11          1424           0.162    1036.672\n",
       "12          1562           0.172    1121.516\n",
       "13          1711           0.186    1204.544\n",
       "14          1870           0.199    1292.170\n",
       "15          1977           0.209    1346.337\n",
       "16          2090           0.219    1402.390\n",
       "17          2218           0.228    1468.316"
      ]
     },
     "execution_count": 3,
     "metadata": {},
     "output_type": "execute_result"
    }
   ],
   "source": [
    "df = raw_tax_sheet.rename( columns={'Unnamed: 1': 'gross_income', 0: 'tax_percentage'} )\n",
    "print(df.head())\n",
    "\n",
    "# Social Security tax plus IRS added\n",
    "df['net_income'] = df.apply(lambda row: row[0] - (row[0] * (row[1]+0.11) ), axis=1 )\n",
    "\n",
    "print(df.dtypes)\n",
    "df"
   ]
  },
  {
   "cell_type": "code",
   "execution_count": 4,
   "id": "5910cbea",
   "metadata": {},
   "outputs": [
    {
     "data": {
      "image/png": "[encoded data removed]",
      "text/plain": [
       "<Figure size 540x252 with 1 Axes>"
      ]
     },
     "metadata": {
      "needs_background": "light"
     },
     "output_type": "display_data"
    }
   ],
   "source": [
    "plt.rcParams[\"figure.figsize\"] = [7.50, 3.50]\n",
    "plt.rcParams[\"figure.autolayout\"] = True\n",
    "\n",
    "plt.xlabel(\"Porcentagem da taxa de Imposto de Renda\")\n",
    "plt.ylabel(\"Salário\")\n",
    "\n",
    "plt.title('Salário Bruto X Salário Líquido (Solteiro, sem dependentes)')\n",
    "\n",
    "plt.plot(df['tax_percentage'].values*100, df['gross_income'], label='Salário Bruto', color='green')\n",
    "plt.plot(df['tax_percentage'].values*100, df['net_income'].values, label='Salário Líquido', color='red')\n",
    "\n",
    "leg = plt.legend(loc='upper center')\n",
    "plt.show()"
   ]
  },
  {
   "cell_type": "code",
   "execution_count": 5,
   "id": "0e32a230",
   "metadata": {},
   "outputs": [
    {
     "data": {
      "text/plain": [
       "<Figure size 540x252 with 0 Axes>"
      ]
     },
     "metadata": {},
     "output_type": "display_data"
    }
   ],
   "source": [
    "plt.savefig('irs_file.png')"
   ]
  }
 ],
 "metadata": {
  "kernelspec": {
   "display_name": "Python 3",
   "language": "python",
   "name": "python3"
  },
  "language_info": {
   "codemirror_mode": {
    "name": "ipython",
    "version": 3
   },
   "file_extension": ".py",
   "mimetype": "text/x-python",
   "name": "python",
   "nbconvert_exporter": "python",
   "pygments_lexer": "ipython3",
   "version": "3.8.8"
  }
 },
 "nbformat": 4,
 "nbformat_minor": 5
}
